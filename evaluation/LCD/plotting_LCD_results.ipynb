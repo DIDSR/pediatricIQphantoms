{
 "cells": [
  {
   "cell_type": "markdown",
   "metadata": {},
   "source": [
    " # Low Contrast Detectability Evaluations with Pediatric-Sized QA Phantoms\n",
    " Brandon J. Nelson\n",
    " 2023-02-03\n",
    " # Background\n",
    " This script generates plots from the `LCD_results.csv` file produced by `main_lcd_catphanSim.m` to visualize\n",
    " the relationships between phantom size, reconstruction method, lesion size, dose level on low contrast\n",
    " detectability in terms of area under the roc curve (AUC) and detectability signal to noise (SNR) which are\n",
    " outputs from the model observers available here <https://github.com/DIDSR/LCD_CT>\n",
    " ## Looking at the results from `main_lcd_catphanSim.m`"
   ]
  },
  {
   "cell_type": "code",
   "execution_count": null,
   "metadata": {},
   "outputs": [
    {
     "ename": "",
     "evalue": "",
     "output_type": "error",
     "traceback": [
      "\u001b[1;31mRunning cells with 'Python 3.7.4 ('pedDLIR')' requires ipykernel package.\n",
      "Run the following command to install 'ipykernel' into the Python environment. \n",
      "Command: 'conda install -n pedDLIR ipykernel --update-deps --force-reinstall'"
     ]
    }
   ],
   "source": [
    "import pandas as pd\n",
    "import numpy as np\n",
    "import matplotlib.pyplot as plt\n",
    "lcd_data = pd.read_csv('/home/brandon.nelson/Dev/DLIR_Ped_Generalizability/geometric_phantom_studies/results/LCD/LCD_results.csv')\n",
    "\n",
    "lcd_data.replace('dl_REDCNN', 'dlir', inplace=True)\n",
    "lcd_data.rename(columns={'patient_diameter_mm': 'phantom diameter [mm]', 'dose_level_pct': 'dose [%]'}, inplace=True)\n",
    "lcd_data = lcd_data[lcd_data['phantom diameter [mm]'] != 200] #ref has large fov\n",
    "print(f\"{len(lcd_data['observer'].unique())} observers X {len(lcd_data['phantom diameter [mm]'].unique())} phantom diameters\\\n",
    "      X {len(lcd_data['insert_HU'].unique())} lesion inserts per image X {len(lcd_data['recon'].unique())} recon types\\\n",
    "      X {len(lcd_data['dose [%]'].unique())} dose levels X {len(lcd_data['reader'].unique())} readers = {len(lcd_data)} LCD measurements\")\n",
    "lcd_data.head()"
   ]
  },
  {
   "cell_type": "code",
   "execution_count": null,
   "metadata": {},
   "outputs": [
    {
     "ename": "",
     "evalue": "",
     "output_type": "error",
     "traceback": [
      "\u001b[1;31mRunning cells with 'Python 3.7.4 ('pedDLIR')' requires ipykernel package.\n",
      "Run the following command to install 'ipykernel' into the Python environment. \n",
      "Command: 'conda install -n pedDLIR ipykernel --update-deps --force-reinstall'"
     ]
    }
   ],
   "source": [
    "lcd_data.tail() "
   ]
  },
  {
   "cell_type": "code",
   "execution_count": null,
   "metadata": {},
   "outputs": [
    {
     "ename": "",
     "evalue": "",
     "output_type": "error",
     "traceback": [
      "\u001b[1;31mRunning cells with 'Python 3.7.4 ('pedDLIR')' requires ipykernel package.\n",
      "Run the following command to install 'ipykernel' into the Python environment. \n",
      "Command: 'conda install -n pedDLIR ipykernel --update-deps --force-reinstall'"
     ]
    }
   ],
   "source": [
    "insert_HU_size = {14 : '3 mm', 7: '5 mm', 5: '7 mm', 3: '10 mm'}\n",
    "observers = lcd_data['observer'].unique()\n",
    "observers"
   ]
  },
  {
   "cell_type": "markdown",
   "metadata": {},
   "source": [
    " ## Getting the Mean and Standard Deviation\n",
    " Use the dataframe `groupby` method to group the data by the following groups (all groups except reader number), and then take the mean\n",
    " and standard deviation across `reader`. Leave `dose [%]` as last `groupby` item to be able plot against it later"
   ]
  },
  {
   "cell_type": "code",
   "execution_count": null,
   "metadata": {},
   "outputs": [
    {
     "ename": "",
     "evalue": "",
     "output_type": "error",
     "traceback": [
      "\u001b[1;31mRunning cells with 'Python 3.7.4 ('pedDLIR')' requires ipykernel package.\n",
      "Run the following command to install 'ipykernel' into the Python environment. \n",
      "Command: 'conda install -n pedDLIR ipykernel --update-deps --force-reinstall'"
     ]
    }
   ],
   "source": [
    "grouped = lcd_data.groupby([\"phantom diameter [mm]\",\"recon\", \"insert_HU\", \"observer\", \"dose [%]\"])\n",
    "\n",
    "lcd_mean = grouped.mean()\n",
    "lcd_std = grouped.std()\n",
    "lcd_mean"
   ]
  },
  {
   "cell_type": "code",
   "execution_count": null,
   "metadata": {
    "tags": []
   },
   "outputs": [
    {
     "ename": "",
     "evalue": "",
     "output_type": "error",
     "traceback": [
      "\u001b[1;31mRunning cells with 'Python 3.7.4 ('pedDLIR')' requires ipykernel package.\n",
      "Run the following command to install 'ipykernel' into the Python environment. \n",
      "Command: 'conda install -n pedDLIR ipykernel --update-deps --force-reinstall'"
     ]
    }
   ],
   "source": [
    "lcd_mean['auc'][112, 'dlir', 3, 'NPW 2D']"
   ]
  },
  {
   "cell_type": "markdown",
   "metadata": {
    "tags": []
   },
   "source": [
    " # AUC and SNR vs dose"
   ]
  },
  {
   "cell_type": "markdown",
   "metadata": {
    "tags": []
   },
   "source": [
    " ## First build up our plotting routines"
   ]
  },
  {
   "cell_type": "code",
   "execution_count": null,
   "metadata": {
    "tags": []
   },
   "outputs": [
    {
     "ename": "",
     "evalue": "",
     "output_type": "error",
     "traceback": [
      "\u001b[1;31mRunning cells with 'Python 3.7.4 ('pedDLIR')' requires ipykernel package.\n",
      "Run the following command to install 'ipykernel' into the Python environment. \n",
      "Command: 'conda install -n pedDLIR ipykernel --update-deps --force-reinstall'"
     ]
    }
   ],
   "source": [
    "from plot_LCD import LCD_Plotter"
   ]
  },
  {
   "cell_type": "markdown",
   "metadata": {},
   "source": [
    "## AUC and SNR vs dose for individual inserts\n",
    "Can adjust the list of observers to update the plot"
   ]
  },
  {
   "cell_type": "code",
   "execution_count": null,
   "metadata": {},
   "outputs": [
    {
     "ename": "",
     "evalue": "",
     "output_type": "error",
     "traceback": [
      "\u001b[1;31mRunning cells with 'Python 3.7.4 ('pedDLIR')' requires ipykernel package.\n",
      "Run the following command to install 'ipykernel' into the Python environment. \n",
      "Command: 'conda install -n pedDLIR ipykernel --update-deps --force-reinstall'"
     ]
    }
   ],
   "source": [
    "plotter = LCD_Plotter(lcd_data)"
   ]
  },
  {
   "cell_type": "code",
   "execution_count": null,
   "metadata": {
    "tags": []
   },
   "outputs": [
    {
     "ename": "",
     "evalue": "",
     "output_type": "error",
     "traceback": [
      "\u001b[1;31mRunning cells with 'Python 3.7.4 ('pedDLIR')' requires ipykernel package.\n",
      "Run the following command to install 'ipykernel' into the Python environment. \n",
      "Command: 'conda install -n pedDLIR ipykernel --update-deps --force-reinstall'"
     ]
    }
   ],
   "source": [
    "plotter.recons = ['fbp' , 'dlir' , [ 'dlir', 'fbp']]"
   ]
  },
  {
   "cell_type": "code",
   "execution_count": null,
   "metadata": {
    "tags": []
   },
   "outputs": [
    {
     "ename": "",
     "evalue": "",
     "output_type": "error",
     "traceback": [
      "\u001b[1;31mRunning cells with 'Python 3.7.4 ('pedDLIR')' requires ipykernel package.\n",
      "Run the following command to install 'ipykernel' into the Python environment. \n",
      "Command: 'conda install -n pedDLIR ipykernel --update-deps --force-reinstall'"
     ]
    }
   ],
   "source": [
    "plotter.dose_levels = [100, 25]"
   ]
  },
  {
   "cell_type": "code",
   "execution_count": null,
   "metadata": {
    "tags": []
   },
   "outputs": [
    {
     "ename": "",
     "evalue": "",
     "output_type": "error",
     "traceback": [
      "\u001b[1;31mRunning cells with 'Python 3.7.4 ('pedDLIR')' requires ipykernel package.\n",
      "Run the following command to install 'ipykernel' into the Python environment. \n",
      "Command: 'conda install -n pedDLIR ipykernel --update-deps --force-reinstall'"
     ]
    }
   ],
   "source": [
    "plotter.insert_HUs = 7"
   ]
  },
  {
   "cell_type": "code",
   "execution_count": null,
   "metadata": {
    "tags": []
   },
   "outputs": [
    {
     "ename": "",
     "evalue": "",
     "output_type": "error",
     "traceback": [
      "\u001b[1;31mRunning cells with 'Python 3.7.4 ('pedDLIR')' requires ipykernel package.\n",
      "Run the following command to install 'ipykernel' into the Python environment. \n",
      "Command: 'conda install -n pedDLIR ipykernel --update-deps --force-reinstall'"
     ]
    }
   ],
   "source": [
    "plotter.observers = ['Laguerre-Gauss CHO 2D', 'NPW 2D']"
   ]
  },
  {
   "cell_type": "code",
   "execution_count": null,
   "metadata": {
    "tags": []
   },
   "outputs": [
    {
     "ename": "",
     "evalue": "",
     "output_type": "error",
     "traceback": [
      "\u001b[1;31mRunning cells with 'Python 3.7.4 ('pedDLIR')' requires ipykernel package.\n",
      "Run the following command to install 'ipykernel' into the Python environment. \n",
      "Command: 'conda install -n pedDLIR ipykernel --update-deps --force-reinstall'"
     ]
    }
   ],
   "source": [
    "plotter.plot?"
   ]
  },
  {
   "cell_type": "code",
   "execution_count": null,
   "metadata": {
    "tags": []
   },
   "outputs": [
    {
     "ename": "",
     "evalue": "",
     "output_type": "error",
     "traceback": [
      "\u001b[1;31mRunning cells with 'Python 3.7.4 ('pedDLIR')' requires ipykernel package.\n",
      "Run the following command to install 'ipykernel' into the Python environment. \n",
      "Command: 'conda install -n pedDLIR ipykernel --update-deps --force-reinstall'"
     ]
    }
   ],
   "source": [
    "plotter.plot(x='diameter', restype='snr', transpose=False, recon_cmp_method='div')"
   ]
  },
  {
   "cell_type": "markdown",
   "metadata": {},
   "source": [
    "Try and recreate each plot below using the Plotter class"
   ]
  },
  {
   "cell_type": "code",
   "execution_count": null,
   "metadata": {
    "tags": []
   },
   "outputs": [
    {
     "ename": "",
     "evalue": "",
     "output_type": "error",
     "traceback": [
      "\u001b[1;31mRunning cells with 'Python 3.7.4 ('pedDLIR')' requires ipykernel package.\n",
      "Run the following command to install 'ipykernel' into the Python environment. \n",
      "Command: 'conda install -n pedDLIR ipykernel --update-deps --force-reinstall'"
     ]
    }
   ],
   "source": [
    "plotter = LCD_Plotter(lcd_data)\n",
    "plotter.recons = 'fbp'\n",
    "plotter.phantom_diameters = 292\n",
    "plotter.insert_HUs = 14\n",
    "plotter.plot(x='dose', restype='auc')"
   ]
  },
  {
   "cell_type": "markdown",
   "metadata": {},
   "source": [
    "Can also change the recon type to DLIR"
   ]
  },
  {
   "cell_type": "code",
   "execution_count": null,
   "metadata": {
    "tags": []
   },
   "outputs": [
    {
     "ename": "",
     "evalue": "",
     "output_type": "error",
     "traceback": [
      "\u001b[1;31mRunning cells with 'Python 3.7.4 ('pedDLIR')' requires ipykernel package.\n",
      "Run the following command to install 'ipykernel' into the Python environment. \n",
      "Command: 'conda install -n pedDLIR ipykernel --update-deps --force-reinstall'"
     ]
    }
   ],
   "source": [
    "plotter.recons = 'dlir'\n",
    "plotter.plot(x='dose', restype='auc')"
   ]
  },
  {
   "cell_type": "code",
   "execution_count": null,
   "metadata": {
    "tags": []
   },
   "outputs": [
    {
     "ename": "",
     "evalue": "",
     "output_type": "error",
     "traceback": [
      "\u001b[1;31mRunning cells with 'Python 3.7.4 ('pedDLIR')' requires ipykernel package.\n",
      "Run the following command to install 'ipykernel' into the Python environment. \n",
      "Command: 'conda install -n pedDLIR ipykernel --update-deps --force-reinstall'"
     ]
    }
   ],
   "source": [
    "plotter.insert_HUs = [14, 7, 5, 3]\n",
    "plotter.plot(x='dose', restype='auc')"
   ]
  },
  {
   "cell_type": "markdown",
   "metadata": {},
   "source": [
    "entering 2 recon types in as a list compares them (takes the difference by default, see `recon_cmp_method`) \n",
    "if `recon_cmp_method = 'diff'` then `recon1 - recon2` if `recons = [[recon1, recon2]]` "
   ]
  },
  {
   "cell_type": "code",
   "execution_count": null,
   "metadata": {
    "tags": []
   },
   "outputs": [
    {
     "ename": "",
     "evalue": "",
     "output_type": "error",
     "traceback": [
      "\u001b[1;31mRunning cells with 'Python 3.7.4 ('pedDLIR')' requires ipykernel package.\n",
      "Run the following command to install 'ipykernel' into the Python environment. \n",
      "Command: 'conda install -n pedDLIR ipykernel --update-deps --force-reinstall'"
     ]
    }
   ],
   "source": [
    "plotter.recons = [['dlir', 'fbp']]\n",
    "plotter.plot(x='dose', restype='snr')"
   ]
  },
  {
   "cell_type": "markdown",
   "metadata": {},
   "source": [
    "Can also specify which lesion inserts you want to view based on HU value(s), can enter single value or a list"
   ]
  },
  {
   "cell_type": "code",
   "execution_count": null,
   "metadata": {
    "tags": []
   },
   "outputs": [
    {
     "ename": "",
     "evalue": "",
     "output_type": "error",
     "traceback": [
      "\u001b[1;31mRunning cells with 'Python 3.7.4 ('pedDLIR')' requires ipykernel package.\n",
      "Run the following command to install 'ipykernel' into the Python environment. \n",
      "Command: 'conda install -n pedDLIR ipykernel --update-deps --force-reinstall'"
     ]
    }
   ],
   "source": [
    "lcd_data['insert_HU'].unique()"
   ]
  },
  {
   "cell_type": "code",
   "execution_count": null,
   "metadata": {
    "tags": []
   },
   "outputs": [
    {
     "ename": "",
     "evalue": "",
     "output_type": "error",
     "traceback": [
      "\u001b[1;31mRunning cells with 'Python 3.7.4 ('pedDLIR')' requires ipykernel package.\n",
      "Run the following command to install 'ipykernel' into the Python environment. \n",
      "Command: 'conda install -n pedDLIR ipykernel --update-deps --force-reinstall'"
     ]
    }
   ],
   "source": [
    "plotter.insert_HUs = [5, 14]\n",
    "plotter.plot(x='dose', restype='snr')"
   ]
  },
  {
   "cell_type": "markdown",
   "metadata": {},
   "source": [
    " ### Let's look at everything (warning a bit overwhelming) AUC\n",
    " these could be included in the paper appendix, but for the main figures we'll want to distill this down to\n",
    " the main effects (described below)"
   ]
  },
  {
   "cell_type": "code",
   "execution_count": null,
   "metadata": {
    "tags": []
   },
   "outputs": [
    {
     "ename": "",
     "evalue": "",
     "output_type": "error",
     "traceback": [
      "\u001b[1;31mRunning cells with 'Python 3.7.4 ('pedDLIR')' requires ipykernel package.\n",
      "Run the following command to install 'ipykernel' into the Python environment. \n",
      "Command: 'conda install -n pedDLIR ipykernel --update-deps --force-reinstall'"
     ]
    }
   ],
   "source": [
    "plotter.phantom_diameters"
   ]
  },
  {
   "cell_type": "code",
   "execution_count": null,
   "metadata": {
    "tags": []
   },
   "outputs": [
    {
     "ename": "",
     "evalue": "",
     "output_type": "error",
     "traceback": [
      "\u001b[1;31mRunning cells with 'Python 3.7.4 ('pedDLIR')' requires ipykernel package.\n",
      "Run the following command to install 'ipykernel' into the Python environment. \n",
      "Command: 'conda install -n pedDLIR ipykernel --update-deps --force-reinstall'"
     ]
    }
   ],
   "source": [
    "plotter = LCD_Plotter(lcd_data)\n",
    "plotter.recons = ['fbp', 'dlir', ['dlir', 'fbp']]\n",
    "plotter.phantom_diameters = sorted(plotter.phantom_diameters, reverse=True)\n",
    "plotter.plot(x='dose', restype='auc')"
   ]
  },
  {
   "cell_type": "markdown",
   "metadata": {},
   "source": [
    " ## First look at everything (warning a bit overwhelming) SNR\n",
    " Same as above, these could be included in the paper appendix, but for the main figures we'll want to distill this down to\n",
    " the main effects (described below)"
   ]
  },
  {
   "cell_type": "code",
   "execution_count": null,
   "metadata": {},
   "outputs": [
    {
     "ename": "",
     "evalue": "",
     "output_type": "error",
     "traceback": [
      "\u001b[1;31mRunning cells with 'Python 3.7.4 ('pedDLIR')' requires ipykernel package.\n",
      "Run the following command to install 'ipykernel' into the Python environment. \n",
      "Command: 'conda install -n pedDLIR ipykernel --update-deps --force-reinstall'"
     ]
    }
   ],
   "source": [
    "plotter.plot(x='dose', restype='snr')"
   ]
  },
  {
   "cell_type": "markdown",
   "metadata": {},
   "source": [
    " ## Let's now break this down into smaller chunks to better understand the relationships between variables\n",
    " ### Starting with insert size and HU\n",
    " Let's first see if there's any noticeable difference in detectability based on insert size and contrast\n",
    "\n",
    " ### all 4 inserts auc vs dose (no diffs)\n",
    " this shows that there's not much difference between inserts"
   ]
  },
  {
   "cell_type": "code",
   "execution_count": null,
   "metadata": {
    "tags": []
   },
   "outputs": [
    {
     "ename": "",
     "evalue": "",
     "output_type": "error",
     "traceback": [
      "\u001b[1;31mRunning cells with 'Python 3.7.4 ('pedDLIR')' requires ipykernel package.\n",
      "Run the following command to install 'ipykernel' into the Python environment. \n",
      "Command: 'conda install -n pedDLIR ipykernel --update-deps --force-reinstall'"
     ]
    }
   ],
   "source": [
    "plotter.phantom_diameters = [292, 185, 112]\n",
    "plotter.recons = ['fbp', 'dlir']\n",
    "plotter.plot(x='dose', restype='auc')"
   ]
  },
  {
   "cell_type": "markdown",
   "metadata": {},
   "source": [
    "### all 4 inserts snr vs dose (no diffs)\n",
    " this shows that there's not much difference between inserts"
   ]
  },
  {
   "cell_type": "code",
   "execution_count": null,
   "metadata": {
    "tags": []
   },
   "outputs": [
    {
     "ename": "",
     "evalue": "",
     "output_type": "error",
     "traceback": [
      "\u001b[1;31mRunning cells with 'Python 3.7.4 ('pedDLIR')' requires ipykernel package.\n",
      "Run the following command to install 'ipykernel' into the Python environment. \n",
      "Command: 'conda install -n pedDLIR ipykernel --update-deps --force-reinstall'"
     ]
    }
   ],
   "source": [
    "plotter.plot(x='dose', restype='snr')"
   ]
  },
  {
   "cell_type": "markdown",
   "metadata": {},
   "source": [
    " ## Now just 1 insert but show diffs auc"
   ]
  },
  {
   "cell_type": "code",
   "execution_count": null,
   "metadata": {
    "tags": []
   },
   "outputs": [
    {
     "ename": "",
     "evalue": "",
     "output_type": "error",
     "traceback": [
      "\u001b[1;31mRunning cells with 'Python 3.7.4 ('pedDLIR')' requires ipykernel package.\n",
      "Run the following command to install 'ipykernel' into the Python environment. \n",
      "Command: 'conda install -n pedDLIR ipykernel --update-deps --force-reinstall'"
     ]
    }
   ],
   "source": [
    "plotter.insert_HUs = 14\n",
    "plotter.recons = ['fbp', 'dlir', ['dlir', 'fbp']]\n",
    "plotter.plot(x='dose', restype='auc')"
   ]
  },
  {
   "cell_type": "markdown",
   "metadata": {},
   "source": [
    " ## Now just 1 insert but show diffs snr"
   ]
  },
  {
   "cell_type": "code",
   "execution_count": null,
   "metadata": {
    "tags": []
   },
   "outputs": [
    {
     "ename": "",
     "evalue": "",
     "output_type": "error",
     "traceback": [
      "\u001b[1;31mRunning cells with 'Python 3.7.4 ('pedDLIR')' requires ipykernel package.\n",
      "Run the following command to install 'ipykernel' into the Python environment. \n",
      "Command: 'conda install -n pedDLIR ipykernel --update-deps --force-reinstall'"
     ]
    }
   ],
   "source": [
    "plotter.plot(x='dose', restype='snr')"
   ]
  },
  {
   "cell_type": "markdown",
   "metadata": {},
   "source": [
    " # diff auc vs diam"
   ]
  },
  {
   "cell_type": "markdown",
   "metadata": {},
   "source": [
    "  dlir - fbp diff auc"
   ]
  },
  {
   "cell_type": "code",
   "execution_count": null,
   "metadata": {},
   "outputs": [
    {
     "ename": "",
     "evalue": "",
     "output_type": "error",
     "traceback": [
      "\u001b[1;31mRunning cells with 'Python 3.7.4 ('pedDLIR')' requires ipykernel package.\n",
      "Run the following command to install 'ipykernel' into the Python environment. \n",
      "Command: 'conda install -n pedDLIR ipykernel --update-deps --force-reinstall'"
     ]
    }
   ],
   "source": [
    "plotter.reset()\n",
    "plotter.dose_levels = 100\n",
    "plotter.recons = 'fbp'\n",
    "plotter.plot(x='diameter', restype='auc')"
   ]
  },
  {
   "cell_type": "code",
   "execution_count": null,
   "metadata": {
    "tags": []
   },
   "outputs": [
    {
     "ename": "",
     "evalue": "",
     "output_type": "error",
     "traceback": [
      "\u001b[1;31mRunning cells with 'Python 3.7.4 ('pedDLIR')' requires ipykernel package.\n",
      "Run the following command to install 'ipykernel' into the Python environment. \n",
      "Command: 'conda install -n pedDLIR ipykernel --update-deps --force-reinstall'"
     ]
    }
   ],
   "source": [
    "plotter.dose_levels = [100, 10]\n",
    "plotter.recons = ['fbp', 'dlir', ['dlir', 'fbp']]\n",
    "plotter.plot(restype='auc', x='diameter')"
   ]
  },
  {
   "cell_type": "code",
   "execution_count": null,
   "metadata": {
    "tags": []
   },
   "outputs": [
    {
     "ename": "",
     "evalue": "",
     "output_type": "error",
     "traceback": [
      "\u001b[1;31mRunning cells with 'Python 3.7.4 ('pedDLIR')' requires ipykernel package.\n",
      "Run the following command to install 'ipykernel' into the Python environment. \n",
      "Command: 'conda install -n pedDLIR ipykernel --update-deps --force-reinstall'"
     ]
    }
   ],
   "source": [
    "plotter.insert_HUs = 14\n",
    "plotter.plot(restype='auc', x='diameter')"
   ]
  },
  {
   "cell_type": "markdown",
   "metadata": {},
   "source": [
    " note above that sometimes NPWE can exceed NPW in \\Delta AUC because the AUC is saturated, this cross-over doesn't occur in SNR\n",
    " since we showed this earlier we probs only need to show SNR moving forward in the paper if we show the auc saturation once"
   ]
  },
  {
   "cell_type": "markdown",
   "metadata": {},
   "source": [
    " dlir - fbp diff snr"
   ]
  },
  {
   "cell_type": "code",
   "execution_count": null,
   "metadata": {
    "tags": []
   },
   "outputs": [
    {
     "ename": "",
     "evalue": "",
     "output_type": "error",
     "traceback": [
      "\u001b[1;31mRunning cells with 'Python 3.7.4 ('pedDLIR')' requires ipykernel package.\n",
      "Run the following command to install 'ipykernel' into the Python environment. \n",
      "Command: 'conda install -n pedDLIR ipykernel --update-deps --force-reinstall'"
     ]
    }
   ],
   "source": [
    "plotter.plot(restype='snr', x='diameter')"
   ]
  },
  {
   "cell_type": "markdown",
   "metadata": {},
   "source": [
    " ## SNR ratios"
   ]
  },
  {
   "cell_type": "code",
   "execution_count": null,
   "metadata": {
    "tags": []
   },
   "outputs": [
    {
     "ename": "",
     "evalue": "",
     "output_type": "error",
     "traceback": [
      "\u001b[1;31mRunning cells with 'Python 3.7.4 ('pedDLIR')' requires ipykernel package.\n",
      "Run the following command to install 'ipykernel' into the Python environment. \n",
      "Command: 'conda install -n pedDLIR ipykernel --update-deps --force-reinstall'"
     ]
    }
   ],
   "source": [
    "plotter.plot(restype='snr', x='diameter', recon_cmp_method='div')"
   ]
  },
  {
   "cell_type": "markdown",
   "metadata": {},
   "source": [
    " the ratio becomes too noisy due to NPWE 2D (eye filter) so remove it from the list of observers"
   ]
  },
  {
   "cell_type": "code",
   "execution_count": null,
   "metadata": {
    "tags": []
   },
   "outputs": [
    {
     "ename": "",
     "evalue": "",
     "output_type": "error",
     "traceback": [
      "\u001b[1;31mRunning cells with 'Python 3.7.4 ('pedDLIR')' requires ipykernel package.\n",
      "Run the following command to install 'ipykernel' into the Python environment. \n",
      "Command: 'conda install -n pedDLIR ipykernel --update-deps --force-reinstall'"
     ]
    }
   ],
   "source": [
    "plotter.observers = ['Laguerre-Gauss CHO 2D', 'NPW 2D']\n",
    "plotter.dose_levels = [100, 55, 10]\n",
    "plotter.plot(restype='snr', x='diameter', recon_cmp_method='div')"
   ]
  },
  {
   "cell_type": "code",
   "execution_count": null,
   "metadata": {
    "tags": []
   },
   "outputs": [
    {
     "ename": "",
     "evalue": "",
     "output_type": "error",
     "traceback": [
      "\u001b[1;31mRunning cells with 'Python 3.7.4 ('pedDLIR')' requires ipykernel package.\n",
      "Run the following command to install 'ipykernel' into the Python environment. \n",
      "Command: 'conda install -n pedDLIR ipykernel --update-deps --force-reinstall'"
     ]
    }
   ],
   "source": [
    "plotter.dose_levels = [100, 25]\n",
    "plotter.plot(restype='snr', x='diameter', recon_cmp_method='div')"
   ]
  },
  {
   "cell_type": "code",
   "execution_count": null,
   "metadata": {
    "tags": []
   },
   "outputs": [
    {
     "ename": "",
     "evalue": "",
     "output_type": "error",
     "traceback": [
      "\u001b[1;31mRunning cells with 'Python 3.7.4 ('pedDLIR')' requires ipykernel package.\n",
      "Run the following command to install 'ipykernel' into the Python environment. \n",
      "Command: 'conda install -n pedDLIR ipykernel --update-deps --force-reinstall'"
     ]
    }
   ],
   "source": [
    "plotter.dose_levels = [100, 25]\n",
    "plotter.insert_HUs = [14, 7, 5, 3]\n",
    "plotter.recons = [['dlir', 'fbp']]\n",
    "plotter.plot(restype='snr', x='diameter', recon_cmp_method='div', transpose = True)"
   ]
  },
  {
   "cell_type": "code",
   "execution_count": null,
   "metadata": {
    "tags": []
   },
   "outputs": [
    {
     "ename": "",
     "evalue": "",
     "output_type": "error",
     "traceback": [
      "\u001b[1;31mRunning cells with 'Python 3.7.4 ('pedDLIR')' requires ipykernel package.\n",
      "Run the following command to install 'ipykernel' into the Python environment. \n",
      "Command: 'conda install -n pedDLIR ipykernel --update-deps --force-reinstall'"
     ]
    }
   ],
   "source": [
    "plotter.insert_HUs = 7\n",
    "plotter.recons = [['dlir', 'fbp']]\n",
    "fig_dict = plotter.plot(restype='snr', x='diameter', recon_cmp_method='div', transpose = True)"
   ]
  },
  {
   "cell_type": "code",
   "execution_count": null,
   "metadata": {},
   "outputs": [
    {
     "ename": "",
     "evalue": "",
     "output_type": "error",
     "traceback": [
      "\u001b[1;31mRunning cells with 'Python 3.7.4 ('pedDLIR')' requires ipykernel package.\n",
      "Run the following command to install 'ipykernel' into the Python environment. \n",
      "Command: 'conda install -n pedDLIR ipykernel --update-deps --force-reinstall'"
     ]
    }
   ],
   "source": [
    "ylim = (0.25, 6.75)\n",
    "fig_dict = plotter.plot(restype='snr', x='diameter', recon_cmp_method='div', transpose = True)\n",
    "fig_dict['fig0'][1][0].set_ylim(ylim)\n",
    "fig_dict['fig0'][1][0].annotate(\"$d_{SNR}$ ratio = $\\frac{DLIR d_{SNR}}{FBP d_{SNR}}$}\",\n",
    "                                xy=(0.7, 0.5))\n",
    "fig_dict['fig1'][1][0].set_ylim(ylim)\n",
    "# plt.savefig(\"SNR_ratio_v_diameter.png\", dpi=600)\n",
    "# fig_dict['fig0'][1][0].get_legend()"
   ]
  },
  {
   "cell_type": "code",
   "execution_count": null,
   "metadata": {},
   "outputs": [
    {
     "ename": "",
     "evalue": "",
     "output_type": "error",
     "traceback": [
      "\u001b[1;31mRunning cells with 'Python 3.7.4 ('pedDLIR')' requires ipykernel package.\n",
      "Run the following command to install 'ipykernel' into the Python environment. \n",
      "Command: 'conda install -n pedDLIR ipykernel --update-deps --force-reinstall'"
     ]
    }
   ],
   "source": [
    "plotter = LCD_Plotter(lcd_data)\n",
    "\n",
    "plotter.insert_HUs = 7\n",
    "plotter.dose_levels = [25]\n",
    "plotter.recons = ['fbp', 'dlir', ['dlir', 'fbp']]\n",
    "plotter.observers = ['Laguerre-Gauss CHO 2D', 'NPW 2D']\n",
    "# ylim = (0.25, 6.75)\n",
    "fig_dict = plotter.plot(restype='auc', x='diameter', recon_cmp_method='diff', transpose = False)"
   ]
  },
  {
   "cell_type": "code",
   "execution_count": null,
   "metadata": {},
   "outputs": [
    {
     "ename": "",
     "evalue": "",
     "output_type": "error",
     "traceback": [
      "\u001b[1;31mRunning cells with 'Python 3.7.4 ('pedDLIR')' requires ipykernel package.\n",
      "Run the following command to install 'ipykernel' into the Python environment. \n",
      "Command: 'conda install -n pedDLIR ipykernel --update-deps --force-reinstall'"
     ]
    }
   ],
   "source": [
    "plotter = LCD_Plotter(lcd_data)\n",
    "\n",
    "plotter.insert_HUs = [3, 5, 7, 14]\n",
    "plotter.dose_levels = [25]\n",
    "plotter.recons = [['dlir', 'fbp']]\n",
    "plotter.observers = ['Laguerre-Gauss CHO 2D', 'NPW 2D']\n",
    "# ylim = (0.25, 6.75)\n",
    "fig_dict = plotter.plot(restype='auc', x='diameter', recon_cmp_method='diff', transpose = False)"
   ]
  },
  {
   "cell_type": "code",
   "execution_count": null,
   "metadata": {},
   "outputs": [
    {
     "ename": "",
     "evalue": "",
     "output_type": "error",
     "traceback": [
      "\u001b[1;31mRunning cells with 'Python 3.7.4 ('pedDLIR')' requires ipykernel package.\n",
      "Run the following command to install 'ipykernel' into the Python environment. \n",
      "Command: 'conda install -n pedDLIR ipykernel --update-deps --force-reinstall'"
     ]
    }
   ],
   "source": [
    "plotter = LCD_Plotter(lcd_data)\n",
    "\n",
    "plotter.insert_HUs = [3, 5, 7, 14]\n",
    "plotter.dose_levels = [100, 55, 25]\n",
    "plotter.recons = [['dlir', 'fbp']]\n",
    "plotter.observers = ['NPW 2D', 'NPWE 2D']\n",
    "# ylim = (0.25, 6.75)\n",
    "fig_dict = plotter.plot(restype='auc', x='diameter', recon_cmp_method='diff', transpose = False)"
   ]
  },
  {
   "cell_type": "code",
   "execution_count": null,
   "metadata": {},
   "outputs": [
    {
     "ename": "",
     "evalue": "",
     "output_type": "error",
     "traceback": [
      "\u001b[1;31mRunning cells with 'Python 3.7.4 ('pedDLIR')' requires ipykernel package.\n",
      "Run the following command to install 'ipykernel' into the Python environment. \n",
      "Command: 'conda install -n pedDLIR ipykernel --update-deps --force-reinstall'"
     ]
    }
   ],
   "source": [
    "sf = fig_dict['fig0'][0]"
   ]
  },
  {
   "cell_type": "code",
   "execution_count": null,
   "metadata": {},
   "outputs": [
    {
     "ename": "",
     "evalue": "",
     "output_type": "error",
     "traceback": [
      "\u001b[1;31mRunning cells with 'Python 3.7.4 ('pedDLIR')' requires ipykernel package.\n",
      "Run the following command to install 'ipykernel' into the Python environment. \n",
      "Command: 'conda install -n pedDLIR ipykernel --update-deps --force-reinstall'"
     ]
    }
   ],
   "source": [
    "sf.suptitle"
   ]
  },
  {
   "cell_type": "code",
   "execution_count": null,
   "metadata": {},
   "outputs": [
    {
     "ename": "",
     "evalue": "",
     "output_type": "error",
     "traceback": [
      "\u001b[1;31mRunning cells with 'Python 3.7.4 ('pedDLIR')' requires ipykernel package.\n",
      "Run the following command to install 'ipykernel' into the Python environment. \n",
      "Command: 'conda install -n pedDLIR ipykernel --update-deps --force-reinstall'"
     ]
    }
   ],
   "source": [
    "  plt.style.use('seaborn-v0_8-deep')\n",
    "    results_csv = results_csv or '/home/brandon.nelson/Dev/DLIR_Ped_Generalizability/geometric_phantom_studies/results/LCD/LCD_results.csv'\n",
    "    results_csv = Path(results_csv)\n",
    "    outputdir = outputdir or results_csv.parent\n",
    "    outputdir = Path(outputdir)\n",
    "    lcd_data = pd.read_csv(results_csv)\n",
    "\n",
    "    lcd_data.replace({'dl_REDCNN': 'dlir',\n",
    "                      'NPW 2D': 'NPW', \n",
    "                      'Laguerre-Gauss CHO 2D': 'Laguerre-Gauss CHO'}, inplace=True)\n",
    "    lcd_data.rename(columns={'patient_diameter_mm': 'phantom diameter [mm]', 'dose_level_pct': 'dose [%]'}, inplace=True)\n",
    "    lcd_data = lcd_data[lcd_data['phantom diameter [mm]'] != 200] #ref has large fov\n",
    "    plotter = LCD_Plotter(lcd_data)\n",
    "\n",
    "    plotter.insert_HUs = 7\n",
    "    plotter.dose_levels = [25]\n",
    "    plotter.recons = [['dlir', 'fbp']]\n",
    "    plotter.observers = ['Laguerre-Gauss CHO', 'NPW'] # 'Laguerre-Gauss CHO 2D', 'NPW 2D'\n",
    "    fig_dict = plotter.plot(restype=restype, x='diameter', recon_cmp_method=comparator, transpose=False)\n",
    "    fig_dict['fig0'][1][0].set_ylim((-0.1, 0.4))\n",
    "    fig_dict['fig0'][1][0].set_xlim((105, 308))\n",
    "    fig_dict['fig0'][0].suptitle('')\n",
    "    fig_dict['fig0'][1][0].set_title('')\n",
    "\n",
    "    ages = [1, 5, 10, 15, 18]\n",
    "    axs = [fig_dict['fig0'][1][0]]\n",
    "    age_yloc = -0.075\n",
    "    for ax in axs:\n",
    "        ax.annotate('Age groups with\\ncorresponding mean\\nabdomen diameter', xy=(170, -0.08), xytext=(110, 0.2), arrowprops=dict(facecolor='black', shrink=0.2, alpha=0.25), fontsize=10)\n",
    "        for a in ages:\n",
    "            eff_diam = age_to_eff_diameter(a)*10\n",
    "            ax.annotate(f'{a}yrs', xy=(eff_diam, age_yloc), xycoords='data', xytext=(eff_diam, age_yloc), ha='center', textcoords='data')\n",
    "\n",
    "    f = plt.gcf()\n",
    "    f.set_figheight(3)\n",
    "    f.set_figwidth(3.2)\n",
    "    output_fname = outputdir/f\"{restype.upper()}_{comparator}_v_diameter.png\"\n",
    "    plt.savefig(output_fname, dpi=600, bbox_inches=\"tight\")\n",
    "    print(f'file saved: {output_fname}')"
   ]
  }
 ],
 "metadata": {
  "kernelspec": {
   "display_name": "Python 3.7.4 ('pedDLIR')",
   "language": "python",
   "name": "python3"
  },
  "language_info": {
   "codemirror_mode": {
    "name": "ipython",
    "version": 3
   },
   "file_extension": ".py",
   "mimetype": "text/x-python",
   "name": "python",
   "nbconvert_exporter": "python",
   "pygments_lexer": "ipython3",
   "version": "3.7.4"
  },
  "vscode": {
   "interpreter": {
    "hash": "a53257ffde7e92e217cf8743bc5de9cb4940b64265c1aa0cc3eef6944c4f967d"
   }
  }
 },
 "nbformat": 4,
 "nbformat_minor": 4
}
