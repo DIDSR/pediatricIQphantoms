{
 "cells": [
  {
   "cell_type": "code",
   "execution_count": 1,
   "metadata": {},
   "outputs": [
    {
     "ename": "ModuleNotFoundError",
     "evalue": "No module named 'pediatricIQphantoms'",
     "output_type": "error",
     "traceback": [
      "\u001b[0;31m---------------------------------------------------------------------------\u001b[0m",
      "\u001b[0;31mModuleNotFoundError\u001b[0m                       Traceback (most recent call last)",
      "Cell \u001b[0;32mIn[1], line 1\u001b[0m\n\u001b[0;32m----> 1\u001b[0m \u001b[38;5;28;01mfrom\u001b[39;00m \u001b[38;5;21;01mpediatricIQphantoms\u001b[39;00m\u001b[38;5;21;01m.\u001b[39;00m\u001b[38;5;21;01mmake_phantoms\u001b[39;00m \u001b[38;5;28;01mimport\u001b[39;00m mirt_sim\n\u001b[1;32m      2\u001b[0m \u001b[38;5;28;01mimport\u001b[39;00m \u001b[38;5;21;01mmatplotlib\u001b[39;00m\u001b[38;5;21;01m.\u001b[39;00m\u001b[38;5;21;01mpyplot\u001b[39;00m \u001b[38;5;28;01mas\u001b[39;00m \u001b[38;5;21;01mplt\u001b[39;00m\n",
      "\u001b[0;31mModuleNotFoundError\u001b[0m: No module named 'pediatricIQphantoms'"
     ]
    }
   ],
   "source": [
    "from pediatricIQphantoms.make_phantoms import mirt_sim\n",
    "import matplotlib.pyplot as plt"
   ]
  },
  {
   "cell_type": "code",
   "execution_count": null,
   "metadata": {},
   "outputs": [],
   "source": [
    "mirt_sim?"
   ]
  },
  {
   "cell_type": "code",
   "execution_count": null,
   "metadata": {},
   "outputs": [],
   "source": [
    "res = mirt_sim('CTP404')"
   ]
  },
  {
   "cell_type": "code",
   "execution_count": null,
   "metadata": {},
   "outputs": [],
   "source": [
    "res.keys()"
   ]
  },
  {
   "cell_type": "code",
   "execution_count": null,
   "metadata": {},
   "outputs": [],
   "source": [
    "res.recon.shape"
   ]
  },
  {
   "cell_type": "code",
   "execution_count": null,
   "metadata": {},
   "outputs": [],
   "source": [
    "def ctshow(img, win=None, lvl=None):\n",
    "    if img.ndim > 2: img = img[0]\n",
    "    if (win is None) or (lvl is None):\n",
    "        vmin = None\n",
    "        vmax = None\n",
    "    else:\n",
    "        vmin = lvl-win/2\n",
    "        vmax = lvl+win/2\n",
    "    plt.imshow(img, cmap='gray', vmin=vmin, vmax=vmax)\n",
    "    plt.colorbar()"
   ]
  },
  {
   "cell_type": "code",
   "execution_count": null,
   "metadata": {},
   "outputs": [],
   "source": [
    "plt.figure(figsize=(10,4), dpi=150)\n",
    "plt.subplot(1,2,1)\n",
    "win, lvl = 100, 20\n",
    "ctshow(res.recon, win, lvl)\n",
    "plt.title('CT Reconstruction')\n",
    "plt.subplot(1,2,2)\n",
    "ctshow(res.ground_truth, win, lvl)\n",
    "plt.title('Ground Truth')"
   ]
  },
  {
   "cell_type": "code",
   "execution_count": null,
   "metadata": {},
   "outputs": [],
   "source": [
    "import numpy as np\n",
    "plt.imshow(-np.log(res.sinogram_noiseless), cmap='gray')\n",
    "plt.xlabel('view index')\n",
    "plt.ylabel('detector index')"
   ]
  },
  {
   "cell_type": "markdown",
   "metadata": {},
   "source": [
    "## Different Phantoms"
   ]
  },
  {
   "cell_type": "code",
   "execution_count": null,
   "metadata": {},
   "outputs": [],
   "source": [
    "ctp404 = mirt_sim('CTP404')\n",
    "cct189 = mirt_sim('CCT189', I0=3e7) # <-- higher dose to show low contrast lesions\n",
    "uniform = mirt_sim('uniform')"
   ]
  },
  {
   "cell_type": "code",
   "execution_count": null,
   "metadata": {},
   "outputs": [],
   "source": [
    "plt.figure(figsize=(9, 2), dpi=300)\n",
    "\n",
    "plt.subplot(1,3,1)\n",
    "ctshow(cct189.recon, 30, 0)\n",
    "\n",
    "plt.subplot(1,3,2)\n",
    "ctshow(ctp404.recon)\n",
    "\n",
    "plt.subplot(1,3,3)\n",
    "ctshow(uniform.recon, 30, 0)\n",
    "plt.show()"
   ]
  },
  {
   "cell_type": "markdown",
   "metadata": {},
   "source": [
    "## Different Dose Levels"
   ]
  },
  {
   "cell_type": "code",
   "execution_count": null,
   "metadata": {},
   "outputs": [],
   "source": [
    "import numpy as np\n",
    "doses = np.linspace(1e5, 8e5, 50)\n",
    "res_list = [mirt_sim('Uniform', I0=I0, nsims=2) for I0 in doses]"
   ]
  },
  {
   "cell_type": "code",
   "execution_count": null,
   "metadata": {},
   "outputs": [],
   "source": [
    "len(res_list)"
   ]
  },
  {
   "cell_type": "code",
   "execution_count": null,
   "metadata": {},
   "outputs": [],
   "source": [
    "nres = 3\n",
    "std_noise = []\n",
    "plt.figure(figsize=(nres*4, nres), dpi=150)\n",
    "for idx, res in enumerate(res_list):\n",
    "    if idx//3 == 0:\n",
    "        plt.subplot(1, nres, idx+1)\n",
    "        ctshow(res.recon[0, nx//2-nx//8:nx//2+nx//8, nx//2-nx//8:nx//2+nx//8], 100, 0)\n",
    "    nz, nx, ny = res.recon.shape\n",
    "    std_noise.append(res.recon[0, nx//2-nx//8:nx//2+nx//8, nx//2-nx//8:nx//2+nx//8].std())\n",
    "    plt.title(f'Photons/pixel {doses[idx]:1.1g}\\nstd: {std_noise[idx]:2.2f} HU')"
   ]
  },
  {
   "cell_type": "code",
   "execution_count": null,
   "metadata": {},
   "outputs": [],
   "source": [
    "plt.plot(doses, std_noise)"
   ]
  },
  {
   "cell_type": "code",
   "execution_count": null,
   "metadata": {},
   "outputs": [],
   "source": [
    "  fpath = get_testdata_file(\"CT_small.dcm\")\n",
    "  ds = dcmread(fpath)"
   ]
  },
  {
   "cell_type": "code",
   "execution_count": null,
   "metadata": {},
   "outputs": [],
   "source": [
    "ds.SliceLocation"
   ]
  },
  {
   "cell_type": "code",
   "execution_count": null,
   "metadata": {},
   "outputs": [],
   "source": [
    "fpath = get_testdata_file(\"CT_small.dcm\")\n",
    "ds = dcmread(fpath)"
   ]
  },
  {
   "cell_type": "code",
   "execution_count": null,
   "metadata": {},
   "outputs": [],
   "source": [
    "ds.pixel_array.shape"
   ]
  },
  {
   "cell_type": "code",
   "execution_count": null,
   "metadata": {},
   "outputs": [],
   "source": [
    "from pydicom import dcmread, dcmwrite\n",
    "from pydicom.data import get_testdata_file\n",
    "from pathlib import Path\n",
    "def write_to_dicom(img, fname):\n",
    "  fpath = get_testdata_file(\"CT_small.dcm\")\n",
    "  ds = dcmread(fpath)\n",
    "  # if img.ndim > 2:\n",
    "  #    return write_dicom_vol(img, fname)\n",
    "  ds.Rows, ds.Columns = img.shape[-2:]\n",
    "  ds.PixelData = img.astype('int16').tobytes()\n",
    "  dcmwrite(fname, ds)\n",
    "\n",
    "def write_dicom_vol(img, fname):\n",
    "    fname = Path(fname)\n",
    "    imdir = fname.parent / fname.stem\n",
    "    imdir.mkdir(exist_ok=True, parents=True)\n",
    "    for idx, slc in enumerate(img):\n",
    "      write_to_dicom(slc, imdir/f'{fname.stem}_{idx:03d}.dcm')"
   ]
  },
  {
   "cell_type": "code",
   "execution_count": null,
   "metadata": {},
   "outputs": [],
   "source": [
    "for d, res in zip(doses, res_list):\n",
    "    write_to_dicom(res['recon'], f'{int(d)}.dcm')"
   ]
  },
  {
   "cell_type": "code",
   "execution_count": null,
   "metadata": {},
   "outputs": [],
   "source": [
    "plt.imshow(ctp404['sinogram_noiseless'], cmap='gray')\n",
    "plt.colorbar()"
   ]
  },
  {
   "cell_type": "code",
   "execution_count": null,
   "metadata": {},
   "outputs": [],
   "source": [
    "std_noise[0]"
   ]
  },
  {
   "cell_type": "markdown",
   "metadata": {},
   "source": [
    "## Recon Type"
   ]
  },
  {
   "cell_type": "code",
   "execution_count": null,
   "metadata": {},
   "outputs": [],
   "source": [
    "cutoff_freq = [0.5, 0.85, 2.05]\n",
    "\n",
    "res_list = [mirt_sim('CCT189', I0=1e6, fbp_kernel=f'hanning,{freq:1.2f}') for freq in cutoff_freq]    "
   ]
  },
  {
   "cell_type": "code",
   "execution_count": null,
   "metadata": {},
   "outputs": [],
   "source": [
    "nres = len(res_list)\n",
    "plt.figure(figsize=(nres*4, nres), dpi=150)\n",
    "for idx, res in enumerate(res_list):\n",
    "    plt.subplot(1, nres, idx+1)\n",
    "    ctshow(res.recon, 30, 0)\n",
    "    plt.title(f'Kernel cutoff {cutoff_freq[idx]}')"
   ]
  },
  {
   "cell_type": "markdown",
   "metadata": {},
   "source": [
    "## Phantom Size and FOV\n",
    "(most important piece)"
   ]
  },
  {
   "cell_type": "code",
   "execution_count": null,
   "metadata": {},
   "outputs": [],
   "source": [
    "phantom_diameters = [112, 185, 292]\n",
    "\n",
    "res_list = [mirt_sim('CCT189', I0=1e6, patient_diameter=d) for d in phantom_diameters]   "
   ]
  },
  {
   "cell_type": "code",
   "execution_count": null,
   "metadata": {},
   "outputs": [],
   "source": [
    "fov = np.array(phantom_diameters)*1.1 # in mm\n",
    "dx = fov/res.recon.shape[-1]\n",
    "\n",
    "nres = len(res_list)\n",
    "plt.figure(figsize=(nres*4, nres), dpi=150)\n",
    "for idx, res in enumerate(res_list):\n",
    "    plt.subplot(1, nres, idx+1)\n",
    "    ctshow(res.recon, 30, 0)\n",
    "    plt.title(f'Phantom Diameter {phantom_diameters[idx]} [mm]\\n(FOV: {fov[idx]:2.0f} mm, voxel size: {dx[idx]:2.2f} mm)', fontsize=8)"
   ]
  },
  {
   "cell_type": "markdown",
   "metadata": {},
   "source": [
    "By default when FOV is not specified, it defaults to a body fitting 1.1x the phantom diameter. Note how FOV changes the relative pixel size"
   ]
  },
  {
   "cell_type": "code",
   "execution_count": null,
   "metadata": {},
   "outputs": [],
   "source": [
    "res = mirt_sim('CCT189', I0=1e6, patient_diameter=112, fov=500)\n",
    "ctshow(res.recon, 30, 0)"
   ]
  },
  {
   "cell_type": "markdown",
   "metadata": {},
   "source": [
    "*Seems FOV not changing anything need to list as a fix*"
   ]
  },
  {
   "cell_type": "markdown",
   "metadata": {},
   "source": []
  }
 ],
 "metadata": {
  "kernelspec": {
   "display_name": "Python 3 (ipykernel)",
   "language": "python",
   "name": "python3"
  },
  "language_info": {
   "codemirror_mode": {
    "name": "ipython",
    "version": 3
   },
   "file_extension": ".py",
   "mimetype": "text/x-python",
   "name": "python",
   "nbconvert_exporter": "python",
   "pygments_lexer": "ipython3",
   "version": "3.11.3"
  }
 },
 "nbformat": 4,
 "nbformat_minor": 4
}
